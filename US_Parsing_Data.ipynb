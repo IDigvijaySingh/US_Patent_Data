{
 "cells": [
  {
   "cell_type": "markdown",
   "metadata": {},
   "source": [
    
    "\n",
    "Date: 25/08/2019\n",
    "\n",
    "Version: 1.0\n",
    "\n",
    "Environment: Python 2.7.11 and Jupyter notebook\n",
    "\n",
    "### The given task is to perform parsing data such as Analyzing Sample input and Output file, extracting data of the columns, removing all the html tags and converting it into csv and json format."
   ]
  },
  {
   "cell_type": "markdown",
   "metadata": {},
   "source": [
    "<br>"
   ]
  },
  {
   "cell_type": "markdown",
   "metadata": {},
   "source": [
    "# Section 1.  Import libraries for performing various tasks using in-built functions of these libraries\n",
    "- importing pandas library to utilise it's method to generate the csv file\n",
    "- importing regex library to utilise it's methods to analyse and assess the given data\n"
   ]
  },
  {
   "cell_type": "code",
   "execution_count": 1,
   "metadata": {},
   "outputs": [],
   "source": [
    "import pandas as pd\n",
    "import re"
   ]
  },
  {
   "cell_type": "markdown",
   "metadata": {},
   "source": [
    "<br>"
   ]
  },
  {
   "cell_type": "markdown",
   "metadata": {
    "collapsed": true
   },
   "source": [
    "# Section 2.1. Parse Group145.txt File and Defining functions\n",
    "- This section is created to read the text file and performing the operation on it line by line using readlines() method\n",
    "\n",
    "## 2.1.1 Parsing file"
   ]
  },
  {
   "cell_type": "code",
   "execution_count": 2,
   "metadata": {},
   "outputs": [],
   "source": [
    "file_name = 'Group145.txt'      # Initializing file name to variable file_name\n",
    "file = open(file_name, 'r')     # Initializing file variable to open the given text file to read the data \n",
    "data = file.readlines()         # Reading each line individually from the given data "
   ]
  },
  {
   "cell_type": "markdown",
   "metadata": {},
   "source": [
    "## 2.1.2 Creating function for cleaning XML tags\n",
    "- Creating a function for cleaning all the xml tags provided in the data\n",
    "- Data in text variable as a string is being passed into this method"
   ]
  },
  {
   "cell_type": "code",
   "execution_count": 3,
   "metadata": {},
   "outputs": [],
   "source": [
    "def clean_tags(text):\n",
    "    # Initializing a string to save cleaned data after the xml tags are removed\n",
    "    clean_text = ''\n",
    "    \n",
    "    # compiling the pattern for fetching texts between the XML tag\n",
    "    clean_pattern = re.compile('<.*?>|\\n')\n",
    "    \n",
    "    # Using substitute method for replacing xml tags with blanks in the texts \n",
    "    clean_text = re.sub(clean_pattern, '', text)\n",
    "    \n",
    "    # Using replace method to replace any \\ (backslash) in the fetched texts\n",
    "    clean_text = clean_text.replace('\\\\', '')\n",
    "    \n",
    "    # returning cleaned text to the calling method\n",
    "    return clean_text"
   ]
  },
  {
   "cell_type": "markdown",
   "metadata": {},
   "source": [
    "## 2.1.3 Creating function for converting list into CSV file\n",
    "- Creating a function for converting list data into csv file\n",
    "- Data in the conversion_data is passed as a list, converted into dataframes and converting it into csv file"
   ]
  },
  {
   "cell_type": "code",
   "execution_count": 4,
   "metadata": {},
   "outputs": [],
   "source": [
    "def convert_to_csv(conversion_data):\n",
    "    # Initializing variable for storing dataframe\n",
    "    df = pd.DataFrame(conversion_data)\n",
    "    \n",
    "    # Conveting dataframe df to csv file\n",
    "    df.to_csv('Group145.csv', index=False)"
   ]
  },
  {
   "cell_type": "markdown",
   "metadata": {},
   "source": [
    "## 2.1.4 Creating function for converting list to JSON file\n",
    "\n",
    "- Creating a function for converting list data into json file\n",
    "- Passing all the list data into function"
   ]
  },
  {
   "cell_type": "code",
   "execution_count": 5,
   "metadata": {},
   "outputs": [],
   "source": [
    "def convert_to_json(header, grant_id, patent_title, kind, number_of_claims, inventor_name, citation_applicant_count, citation_examiner_count, claim_text, abstract):\n",
    "    # Initializing variables for storing data\n",
    "    temp_data = []\n",
    "    data = []\n",
    "    json_data = []\n",
    "    \n",
    "    # For loop for creating json format from patent_title till abstract\n",
    "    for i in range(len(grant_id)):\n",
    "       temp_data.append('{\"'+header[0]+'\":\"'+ str(patent_title[i]) +'\",\"'+header[1]+'\":\"'+ str(kind[i]) +'\",\"'+header[2]+'\":\"'+ str(number_of_claims[i]) +'\",\"'+header[3]+'\":\"'+ str(inventor_name[i]) +'\",\"'+header[4]+'\":\"'+ str(citation_applicant_count[i]) +'\",\"'+header[5]+'\":\"'+ str(citation_examiner_count[i]) +'\",\"'+header[6]+'\":\"'+ str(claim_text[i]) +'\",\"'+header[7]+'\":\"'+ str(abstract[i]) +'\"\\n}')\n",
    "    \n",
    "    # For loop for appending Grant_id into list created above\n",
    "    for j in range(len(grant_id)):\n",
    "        data.append('\\n\"'+ grant_id[j] +'\"' + ':'+ temp_data[j])\n",
    "    \n",
    "    # Appending start and end { } in the created json format\n",
    "    json_data = '{'+\",\".join(data) + '}'\n",
    "    \n",
    "    # Returning created json format data as a list\n",
    "    return json_data"
   ]
  },
  {
   "cell_type": "markdown",
   "metadata": {},
   "source": [
    "<br>"
   ]
  },
  {
   "cell_type": "markdown",
   "metadata": {},
   "source": [
    "# Section 2.2. Retrieving all the column data\n",
    "\n",
    "## 2.2.1 Finding Grant\n",
    "\n",
    "- This section fetches grant id from the given xml data and stores into grant_id list"
   ]
  },
  {
   "cell_type": "code",
   "execution_count": 6,
   "metadata": {},
   "outputs": [],
   "source": [
    "# Initializing grant_id list to store the grant id being fetched from the data\n",
    "grant_id = [] \n",
    "\n",
    "# for loop to read through each line of the data being given\n",
    "for i in data:\n",
    "    \n",
    "    # if condition to check the given tag exist in the data\n",
    "    if re.search(r'file=\"(.*?)-20190723.XML', i):\n",
    "        \n",
    "        # Storing the value of the grant id into a temporary variable by using the provided regex  \n",
    "        grant_id_temp = re.search(r'file=\"(.*?)-20190723.XML', i)\n",
    "        \n",
    "        # Appending the fetched value inside the grant_id list\n",
    "        grant_id.append(grant_id_temp.group(1))"
   ]
  },
  {
   "cell_type": "markdown",
   "metadata": {},
   "source": [
    "## 2.2.2 Finding Patent Title\n",
    "\n",
    "- This section fetches patent title from the given xml data and stores into patent_title list"
   ]
  },
  {
   "cell_type": "code",
   "execution_count": 7,
   "metadata": {},
   "outputs": [],
   "source": [
    "# Initializing patent_title list to store the patent title being fetched from the data\n",
    "patent_title = []\n",
    "\n",
    "# for loop to read through each line of the data being given\n",
    "for i in data:\n",
    "    \n",
    "    # if condition to check the given tag exist in the data\n",
    "    if re.search(r'<invention-title id=\\\"\\w{5,6}\\\">(.*?)</invention-title>', i):\n",
    "        \n",
    "        # Storing the value of the patent title into temporary variable by using the provided regex\n",
    "        patent_title_temp = re.search(r'<invention-title id=\\\"\\w{5,6}\\\">(.*?)</invention-title>', i)\n",
    "        \n",
    "        # Appending the fetched value inside the patent_title list\n",
    "        patent_title.append(patent_title_temp.group(1))"
   ]
  },
  {
   "cell_type": "markdown",
   "metadata": {},
   "source": [
    "## 2.2.3 Finding Kind\n",
    "- This section fetches kind from the given xml data and stores into kind list"
   ]
  },
  {
   "cell_type": "code",
   "execution_count": 8,
   "metadata": {},
   "outputs": [],
   "source": [
    "# Initializin kind list to store the kind being fetched from the data\n",
    "kind = []\n",
    "\n",
    "# Initializing all the counters to 0 for fetching the index of kind value \n",
    "counter = kind_start_counter = kind_end_counter = 0\n",
    "\n",
    "# Using for loop to read through each line of the data being given\n",
    "for i in data:\n",
    "    # Incrementing counter by 1 in each iteration to get index of each line\n",
    "    counter += 1\n",
    "    \n",
    "    # if condition to check the given tag exist in the data\n",
    "    if re.search(r'<publication-reference>', i):\n",
    "        \n",
    "        # Assigning index of the tag to kind_start_counter\n",
    "        kind_start_counter = counter\n",
    "    \n",
    "    # elif condition to check the given tag exist in the data\n",
    "    elif re.search(r'</publication-reference>', i):\n",
    "        \n",
    "        # Assigning index of the tag to kind_end_counter\n",
    "        kind_end_counter = counter\n",
    "        \n",
    "        # for loop to read between tags\n",
    "        for j in data[kind_start_counter: kind_end_counter]:\n",
    "            \n",
    "            # if condition to check the given tag exist in the data, \n",
    "            # if the tag exist then comparing it with the specific kind type and substituting the value in the kind list\n",
    "            if re.findall(r'<kind>(.*?)</kind>', j):\n",
    "                value = re.search(r'<kind>(.*?)</kind>', j)\n",
    "                if value.group(1) == 'B1':\n",
    "                    kind.append('Utility Patent Grant (no published application) issued on or after January 2, 2001.')\n",
    "                elif value.group(1) == 'B2':\n",
    "                    kind.append('Utility Patent Grant (with a published application) issued on or after January 2, 2001.') \n",
    "                elif value.group(1) == 'S1':\n",
    "                    kind.append('Design Patent.')\n",
    "                elif value.group(1) == 'E1':\n",
    "                    kind.append('Reissue Patent')\n",
    "                elif value.group(1) == 'P2':\n",
    "                    kind.append('Plant Patent Grant (no published application) issued on or after January 2, 2001')\n",
    "                elif value.group(1) == 'P3':\n",
    "                    kind.append('Plant Patent Grant (with a published application) issued on or after January 2, 2001')"
   ]
  },
  {
   "cell_type": "markdown",
   "metadata": {},
   "source": [
    "## 2.2.4 Finding Number of Claims\n",
    "- This section fetches Number of Claims from the given xml data and stores into number_of_claims list"
   ]
  },
  {
   "cell_type": "code",
   "execution_count": 9,
   "metadata": {},
   "outputs": [],
   "source": [
    "# Initializing the number_of_claims list to store the count being fetched from the data\n",
    "number_of_claims = []\n",
    "\n",
    "# for loop to read through each line of the data being given\n",
    "for i in data:\n",
    "    \n",
    "    # Putting if condition to check the given tag exist in the data\n",
    "    if re.search(r'<number-of-claims>(.*?)<\\/number-of-claims>', i):\n",
    "        \n",
    "        # Fetching and Storing the value of the into temporary variable by using the provided regex\n",
    "        number_of_claims_temp = re.search(r'<number-of-claims>(.*?)<\\/number-of-claims>', i)\n",
    "        \n",
    "        # Appending the fetched value inside the number_of_claims list\n",
    "        number_of_claims.append(number_of_claims_temp.group(1))"
   ]
  },
  {
   "cell_type": "markdown",
   "metadata": {},
   "source": [
    "## 2.2.5 Finding Inventor Name\n",
    "- This section fetches Inventors name from the given xml data and stores into inventor_name list"
   ]
  },
  {
   "cell_type": "code",
   "execution_count": 10,
   "metadata": {},
   "outputs": [],
   "source": [
    "# Initializing variable to save inventor name\n",
    "inventor_name = []\n",
    "\n",
    "# Initializing variable list to save temporary inventor name for each data\n",
    "inventor_name_temp = []\n",
    "\n",
    "# Initializing all the counters to 0 for fetching the index of inventor name\n",
    "counter = inventor_start_counter = inventor_end_counter = 0\n",
    "\n",
    "# for loop to read through each line of the data\n",
    "for i in data:\n",
    "    \n",
    "    # Incrementing counter by 1 in each iteration to get index of each line\n",
    "    counter += 1\n",
    "    \n",
    "    # if condition to check the given tag exist\n",
    "    if re.search(r'<inventor sequence=\"001\" designation=\"us-only\">', i):\n",
    "        # Assigning index to inventor_start_counter\n",
    "        inventor_start_counter = counter\n",
    "\n",
    "    # elif condition to check the given tag exist\n",
    "    elif re.search(r'</inventors>', i):\n",
    "        \n",
    "        # Assigning index to inventor_end_counter\n",
    "        inventor_end_counter = counter\n",
    "        \n",
    "        # for loop to read between tags\n",
    "        for j in data[inventor_start_counter: inventor_end_counter]:\n",
    "            \n",
    "            # if condition to check the given tag exist in the data, \n",
    "            # if the tag exist then extracting into temporary variable and\n",
    "            # appending it to list\n",
    "            if re.findall(r'<last-name>(.*?)</last-name>', j):\n",
    "                last_temp = re.search(r'<last-name>(.*?)</last-name>', j)\n",
    "            if re.findall(r'<first-name>(.*?)</first-name>', j):\n",
    "                first_temp = re.search(r'<first-name>(.*?)</first-name>', j)\n",
    "                inventor_name_temp.append(first_temp.group(1) + ' ' + last_temp.group(1))\n",
    "        inventor_name.append(inventor_name_temp)\n",
    "        \n",
    "        # Clearing temporary variable to store next inventor's name\n",
    "        inventor_name_temp = []"
   ]
  },
  {
   "cell_type": "markdown",
   "metadata": {},
   "source": [
    "## 2.2.6 Citation count for Applicant and Examiner\n",
    "- This section fetches Citation count by examiner or by applicant from the given xml data"
   ]
  },
  {
   "cell_type": "code",
   "execution_count": 11,
   "metadata": {},
   "outputs": [],
   "source": [
    "citation_applicant_count = []              # Initializing variable to save citation applicant count\n",
    "cited_by_applicant = 'cited by applicant'  # Initializing a string to match the cited text for applicant count\n",
    "applicant_counter = 0                      # Initializing a counter for number of applicant count \n",
    "\n",
    "citation_examiner_count = []               # Initializing variable to save citation examiner count\n",
    "cited_by_examiner = 'cited by examiner'    # Initializing a string to match the cited text for examiner count\n",
    "examiner_counter = 0                       # Initializing a counter for number of examiner count\n",
    "\n",
    "# for loop to read through each line of the data\n",
    "for i in data:\n",
    "    \n",
    "    # if condition to check the given tag exist, if exist then counting the citations\n",
    "    # and counting the citation by applicant or by examinerand saving into respective variable\n",
    "    if re.findall(r'<category>(.*?)</category>', i):\n",
    "        cited_by = re.search(r'<category>(.*?)</category>', i)\n",
    "        if cited_by.group(1) == cited_by_applicant:\n",
    "            applicant_counter += 1\n",
    "        elif cited_by.group(1) == cited_by_examiner:\n",
    "            examiner_counter += 1\n",
    "    \n",
    "    # elif condition to check the end of tag for a single data, if exist then appending the count to list and \n",
    "    # resetting the temporary count to 0 for counting next data's count\n",
    "    elif re.findall(r'</us-patent-grant>', i):\n",
    "        citation_applicant_count.append(applicant_counter)\n",
    "        citation_examiner_count.append(examiner_counter)\n",
    "        applicant_counter = 0\n",
    "        examiner_counter = 0"
   ]
  },
  {
   "cell_type": "markdown",
   "metadata": {},
   "source": [
    "## 2.2.7 Finding Claim Text\n",
    "- This section fetches Claim text from the given xml data"
   ]
  },
  {
   "cell_type": "code",
   "execution_count": 12,
   "metadata": {},
   "outputs": [],
   "source": [
    "# Initializing variable to save claim text data\n",
    "claim_text = []\n",
    "\n",
    "# Initializing variable list to save temporary claim text for each data\n",
    "claim_text_temp = []\n",
    "\n",
    "# Initializing all the counters to 0 for fetching the index of Claim text\n",
    "counter = claim_start_counter = claim_end_counter = 0\n",
    "\n",
    "# for loop to read through each line of the data\n",
    "for i in data:\n",
    "    \n",
    "    # Incrementing counter by 1 in each iteration to get index of each line\n",
    "    counter += 1\n",
    "    \n",
    "    # if condition to check the given tag exist and assigning index value\n",
    "    if re.findall(r'<claim id=\"CLM-00001\" num=\"00001\">', i):\n",
    "        claim_start_counter = counter\n",
    "        \n",
    "    # elif condition to check the end of tag for a single data, if exist then assigning index value\n",
    "    elif re.findall(r'</us-patent-grant>', i):\n",
    "        claim_end_counter = counter\n",
    "        \n",
    "        # for loop from tags to fetch claim text existing between these indexes\n",
    "        for j in data[claim_start_counter: claim_end_counter]:\n",
    "            \n",
    "            # Calling clean_tags function to get texts without HTML tags and appending it to temporary variable\n",
    "            cleaned_data = clean_tags(j)\n",
    "            claim_text_temp.append(cleaned_data)\n",
    "            \n",
    "        # Converting claim_text_temp list to string\n",
    "        temp = ''.join(claim_text_temp)\n",
    "        \n",
    "        # Appending cleaned_text string to claim_text list\n",
    "        claim_text.append(temp)\n",
    "        \n",
    "        # Initializing claim_text_temp and temp to null to store next data set\n",
    "        claim_text_temp = []\n",
    "        temp = ''"
   ]
  },
  {
   "cell_type": "markdown",
   "metadata": {},
   "source": [
    "## 2.2.8 Finding Abstract\n",
    "- This section fetches Abstract from the given xml data"
   ]
  },
  {
   "cell_type": "code",
   "execution_count": 13,
   "metadata": {},
   "outputs": [],
   "source": [
    "# Initializing variable to save abstract data\n",
    "abstract = []\n",
    "\n",
    "# Initializing variable list to save temporary abstract for each data\n",
    "abstract_data_temp = []\n",
    "\n",
    "# Initializing counters to 0 for counting the index of each data\n",
    "counter = 0\n",
    "\n",
    "# for loop to read through each line of the data\n",
    "for i in data:\n",
    "    \n",
    "    # Incrementing counter by 1 in each iteration to get index of each line\n",
    "    counter += 1\n",
    "    \n",
    "    # if condition to check the given tag exist and assigning index value\n",
    "    if re.findall(r'</us-bibliographic-data-grant>', i):\n",
    "        abstract_start_counter = counter\n",
    "\n",
    "    # elif condition to check the given tag exist and assigning index value\n",
    "    elif re.findall(r'<drawings id=\"DRAWINGS\">', i):\n",
    "        abstract_end_counter = counter\n",
    "    \n",
    "    # elif condition to check the end of tag for a single data, if exist then \n",
    "    # assigning index value and looping between the above indexes\n",
    "    elif re.findall(r'</us-patent-grant>', i):\n",
    "        \n",
    "        # for loop from tags to fetch Abstract existing between these indexes\n",
    "        for j in data[abstract_start_counter: (abstract_end_counter - 1)]:\n",
    "            \n",
    "            # Calling clean_tags function to get texts without HTML tags and appending it to temporary variable\n",
    "            cleaned_data = clean_tags(j)\n",
    "            abstract_data_temp.append(cleaned_data)\n",
    "            \n",
    "        # Converting abstract_data_temp list to string\n",
    "        temp = ''.join(abstract_data_temp)\n",
    "        abstract_data_temp = []\n",
    "        \n",
    "        # Appending cleaned_text string to abstract list, if value is Null then appending NA else appending data\n",
    "        if len(temp) == 0:\n",
    "            abstract.append('NA')\n",
    "        else:\n",
    "            abstract.append(temp)\n",
    "        temp = ''"
   ]
  },
  {
   "cell_type": "markdown",
   "metadata": {},
   "source": [
    "## 2.2.9 Converting Data lists into CSV file\n",
    "\n",
    "- This section calls convert_to_csv function for converting and writing data fetched to csv file"
   ]
  },
  {
   "cell_type": "code",
   "execution_count": 14,
   "metadata": {},
   "outputs": [],
   "source": [
    "# Creating dictionary for creating csv file\n",
    "dict_data = {'grant_id': grant_id, 'patent_title': patent_title, 'kind': kind, 'number_of_claims': number_of_claims, 'inventor_name': inventor_name, 'citation_applicant_count': citation_applicant_count, 'citation_examiner_count': citation_examiner_count, 'claim_text': claim_text, 'abstract': abstract}\n",
    "\n",
    "# Calling function convert_to_csv to convert dictionary data into csv file\n",
    "convert_to_csv(dict_data)"
   ]
  },
  {
   "cell_type": "markdown",
   "metadata": {},
   "source": [
    "## 2.2.10 Converting Data lists into JSON file\n",
    "\n",
    "- This section calls convert_to_json and a json formatted list is returned\n",
    "- After list is returned, it is written to create output json file"
   ]
  },
  {
   "cell_type": "code",
   "execution_count": 15,
   "metadata": {},
   "outputs": [],
   "source": [
    "# Header created for columns\n",
    "header = ['patent_title', 'kind', 'number_of_claims', 'inventor_name', 'citation_applicant_count', 'citation_examiner_count','claim_text', 'abstract']\n",
    "\n",
    "# Calling function convert_to_json to get json formatted list\n",
    "json_data = convert_to_json(header, grant_id, patent_title, kind, number_of_claims, inventor_name, citation_applicant_count, citation_examiner_count, claim_text, abstract)\n",
    "\n",
    "# Writing into output file to create json file\n",
    "json_output_file = open('Group145.json', 'w', encoding='UTF-8')\n",
    "json_output_file.write(json_data)\n",
    "json_output_file.close()"
   ]
  },
  {
   "cell_type": "markdown",
   "metadata": {},
   "source": [
    "<br>"
   ]
  },
  {
   "cell_type": "markdown",
   "metadata": {},
   "source": [
    "# Section 3. Summary"
   ]
  },
  {
   "cell_type": "markdown",
   "metadata": {},
   "source": [
    "- #### The task to parse xml data and converting it to csv as well as in json format has given a great insight and lots of learning about the data and its wrangling.\n",
    "- #### The major task was to identify from where the column data's are fetched\n",
    "- #### Once the analysis is completed as from where the data is fetched, half the tasks is completed as only retriving part of the file is left. So after a complete analysis of the file, we started to fetch the column data and stored it into lists.\n",
    "- #### Once all the data's are retrieved, we then converted it into csv file using pandas and json file.\n",
    "- #### The practical knowledge of this Assignment 1: Parsing Data has made us learn about retrieving and cleaning data and how to represent xml formatted data into a meaningful data such as csv file or json file."
   ]
  },
  {
   "cell_type": "code",
   "execution_count": null,
   "metadata": {},
   "outputs": [],
   "source": []
  }
 ],
 "metadata": {
  "kernelspec": {
   "display_name": "Python 3",
   "language": "python",
   "name": "python3"
  },
  "language_info": {
   "codemirror_mode": {
    "name": "ipython",
    "version": 3
   },
   "file_extension": ".py",
   "mimetype": "text/x-python",
   "name": "python",
   "nbconvert_exporter": "python",
   "pygments_lexer": "ipython3",
   "version": "3.7.3"
  }
 },
 "nbformat": 4,
 "nbformat_minor": 1
}
